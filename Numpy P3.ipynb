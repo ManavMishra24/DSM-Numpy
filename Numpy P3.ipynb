{
 "cells": [
  {
   "cell_type": "code",
   "execution_count": 1,
   "id": "9b4ab54d-0166-4b67-8a29-566ce8c9f8f4",
   "metadata": {},
   "outputs": [],
   "source": [
    "# Sort, Search & Counting Functions"
   ]
  },
  {
   "cell_type": "code",
   "execution_count": 2,
   "id": "119056f0-7711-4161-acf2-9acf3a17f78c",
   "metadata": {},
   "outputs": [],
   "source": [
    "import numpy as np"
   ]
  },
  {
   "cell_type": "code",
   "execution_count": 3,
   "id": "015c22d7-b18b-48ab-b4f3-136b8900a397",
   "metadata": {},
   "outputs": [],
   "source": [
    "arr = np.array([4,2,5,6,31,8,6,9,225,54])"
   ]
  },
  {
   "cell_type": "code",
   "execution_count": 4,
   "id": "6fe48b3e-61dd-4151-b240-02e2cf142b4d",
   "metadata": {},
   "outputs": [
    {
     "data": {
      "text/plain": [
       "array([  4,   2,   5,   6,  31,   8,   6,   9, 225,  54])"
      ]
     },
     "execution_count": 4,
     "metadata": {},
     "output_type": "execute_result"
    }
   ],
   "source": [
    "arr"
   ]
  },
  {
   "cell_type": "code",
   "execution_count": 5,
   "id": "7d109dae-9a42-42fc-96b8-976f834fb666",
   "metadata": {},
   "outputs": [
    {
     "data": {
      "text/plain": [
       "array([  2,   4,   5,   6,   6,   8,   9,  31,  54, 225])"
      ]
     },
     "execution_count": 5,
     "metadata": {},
     "output_type": "execute_result"
    }
   ],
   "source": [
    "np.sort(arr)"
   ]
  },
  {
   "cell_type": "code",
   "execution_count": 6,
   "id": "27eafaf5-be70-4530-8670-65ee921ca755",
   "metadata": {},
   "outputs": [
    {
     "data": {
      "text/plain": [
       "8"
      ]
     },
     "execution_count": 6,
     "metadata": {},
     "output_type": "execute_result"
    }
   ],
   "source": [
    "np.searchsorted(arr, 34)"
   ]
  },
  {
   "cell_type": "code",
   "execution_count": 7,
   "id": "d00a793b-9362-4e5f-a97d-2756f6128c12",
   "metadata": {},
   "outputs": [],
   "source": [
    "arr1 = np.array([0,345,445,0,0,0,0,56,78])"
   ]
  },
  {
   "cell_type": "code",
   "execution_count": 8,
   "id": "8442101b-39f0-4885-b6b7-7139c5c44d51",
   "metadata": {},
   "outputs": [
    {
     "data": {
      "text/plain": [
       "4"
      ]
     },
     "execution_count": 8,
     "metadata": {},
     "output_type": "execute_result"
    }
   ],
   "source": [
    "np.count_nonzero(arr1)"
   ]
  },
  {
   "cell_type": "code",
   "execution_count": 9,
   "id": "854fb35f-ee82-4154-ad0e-990d67a431e4",
   "metadata": {},
   "outputs": [
    {
     "data": {
      "text/plain": [
       "array([  4,   2,   5,   6,  31,   8,   6,   9, 225,  54])"
      ]
     },
     "execution_count": 9,
     "metadata": {},
     "output_type": "execute_result"
    }
   ],
   "source": [
    "arr"
   ]
  },
  {
   "cell_type": "code",
   "execution_count": 10,
   "id": "1a8ffaed-d70c-4ad2-9a66-79545c5dc9a7",
   "metadata": {},
   "outputs": [
    {
     "data": {
      "text/plain": [
       "(array([4, 5, 7, 8, 9]),)"
      ]
     },
     "execution_count": 10,
     "metadata": {},
     "output_type": "execute_result"
    }
   ],
   "source": [
    "np.where(arr > 6)"
   ]
  },
  {
   "cell_type": "code",
   "execution_count": 11,
   "id": "0a0e984b-012e-4768-b8fe-3d705b76aba1",
   "metadata": {},
   "outputs": [
    {
     "data": {
      "text/plain": [
       "array([225,  54])"
      ]
     },
     "execution_count": 11,
     "metadata": {},
     "output_type": "execute_result"
    }
   ],
   "source": [
    "np.extract(arr > 31, arr)"
   ]
  },
  {
   "cell_type": "code",
   "execution_count": 12,
   "id": "fea90581-a474-45aa-b896-3366d75c0624",
   "metadata": {},
   "outputs": [],
   "source": [
    "# Numpy Byte Swapping"
   ]
  },
  {
   "cell_type": "code",
   "execution_count": 13,
   "id": "914143ac-3eb6-4e84-b891-b9a7ab2d509d",
   "metadata": {},
   "outputs": [
    {
     "data": {
      "text/plain": [
       "array([  288230376151711744,   144115188075855872,   360287970189639680,\n",
       "         432345564227567616,  2233785415175766016,   576460752303423488,\n",
       "         432345564227567616,   648518346341351424, -2233785415175766016,\n",
       "        3891110078048108544])"
      ]
     },
     "execution_count": 13,
     "metadata": {},
     "output_type": "execute_result"
    }
   ],
   "source": [
    "arr.byteswap()"
   ]
  },
  {
   "cell_type": "code",
   "execution_count": 14,
   "id": "0111ea00-14e8-42d5-b588-0c12e852566c",
   "metadata": {},
   "outputs": [],
   "source": [
    "# Numpy Copies & Views"
   ]
  },
  {
   "cell_type": "code",
   "execution_count": 15,
   "id": "3b38c0fd-83b5-4c4e-a76a-8d4d197d79d7",
   "metadata": {},
   "outputs": [
    {
     "data": {
      "text/plain": [
       "array([  4,   2,   5,   6,  31,   8,   6,   9, 225,  54])"
      ]
     },
     "execution_count": 15,
     "metadata": {},
     "output_type": "execute_result"
    }
   ],
   "source": [
    "arr"
   ]
  },
  {
   "cell_type": "code",
   "execution_count": 16,
   "id": "c5c78bc8-94ed-4f68-af91-ee3bcf47b333",
   "metadata": {},
   "outputs": [],
   "source": [
    "a = np.copy(arr)"
   ]
  },
  {
   "cell_type": "code",
   "execution_count": 17,
   "id": "34b09d88-8898-4f62-8e48-795813f78eb6",
   "metadata": {},
   "outputs": [],
   "source": [
    "b = arr.view()"
   ]
  },
  {
   "cell_type": "code",
   "execution_count": 18,
   "id": "5b21d2ac-4944-4043-b3c3-d4f97cac2dbb",
   "metadata": {},
   "outputs": [
    {
     "data": {
      "text/plain": [
       "array([  4,   2,   5,   6,  31,   8,   6,   9, 225,  54])"
      ]
     },
     "execution_count": 18,
     "metadata": {},
     "output_type": "execute_result"
    }
   ],
   "source": [
    "b"
   ]
  },
  {
   "cell_type": "code",
   "execution_count": 19,
   "id": "470446ae-0132-4084-8c71-d3cb8c68413f",
   "metadata": {},
   "outputs": [
    {
     "data": {
      "text/plain": [
       "array([  4,   2,   5,   6,  31,   8,   6,   9, 225,  54])"
      ]
     },
     "execution_count": 19,
     "metadata": {},
     "output_type": "execute_result"
    }
   ],
   "source": [
    "arr"
   ]
  },
  {
   "cell_type": "code",
   "execution_count": 20,
   "id": "a5d62d06-bd22-4e73-b57a-9e890783becc",
   "metadata": {},
   "outputs": [],
   "source": [
    "b[0] = 32"
   ]
  },
  {
   "cell_type": "code",
   "execution_count": 21,
   "id": "84b47d3f-2905-4a50-86a7-f7071900f522",
   "metadata": {},
   "outputs": [
    {
     "data": {
      "text/plain": [
       "array([ 32,   2,   5,   6,  31,   8,   6,   9, 225,  54])"
      ]
     },
     "execution_count": 21,
     "metadata": {},
     "output_type": "execute_result"
    }
   ],
   "source": [
    "b"
   ]
  },
  {
   "cell_type": "code",
   "execution_count": 22,
   "id": "b6bbd41a-28fe-49d0-928d-64a14f35ce0f",
   "metadata": {},
   "outputs": [
    {
     "data": {
      "text/plain": [
       "array([ 32,   2,   5,   6,  31,   8,   6,   9, 225,  54])"
      ]
     },
     "execution_count": 22,
     "metadata": {},
     "output_type": "execute_result"
    }
   ],
   "source": [
    "arr"
   ]
  },
  {
   "cell_type": "code",
   "execution_count": 23,
   "id": "8f6c9d2d-c3b3-4883-ade9-f90ce1332387",
   "metadata": {},
   "outputs": [],
   "source": [
    "# Numpy Matrix Library"
   ]
  },
  {
   "cell_type": "code",
   "execution_count": 24,
   "id": "48161461-8a14-4cd3-a459-380e7ee35535",
   "metadata": {},
   "outputs": [],
   "source": [
    "import numpy.matlib as nm"
   ]
  },
  {
   "cell_type": "code",
   "execution_count": 25,
   "id": "6a9428b4-91e4-45cc-95b0-c648ed3933c7",
   "metadata": {},
   "outputs": [
    {
     "data": {
      "text/plain": [
       "matrix([[0., 0., 0., 0., 0.]])"
      ]
     },
     "execution_count": 25,
     "metadata": {},
     "output_type": "execute_result"
    }
   ],
   "source": [
    "nm.zeros(5)"
   ]
  },
  {
   "cell_type": "code",
   "execution_count": 26,
   "id": "2aecc21e-2abc-436e-9d5c-7fcc5287a883",
   "metadata": {},
   "outputs": [
    {
     "data": {
      "text/plain": [
       "matrix([[1., 1., 1., 1.],\n",
       "        [1., 1., 1., 1.],\n",
       "        [1., 1., 1., 1.]])"
      ]
     },
     "execution_count": 26,
     "metadata": {},
     "output_type": "execute_result"
    }
   ],
   "source": [
    "nm.ones((3,4))"
   ]
  },
  {
   "cell_type": "code",
   "execution_count": 27,
   "id": "644eddf8-4869-4757-b79c-ece8d4d08c01",
   "metadata": {},
   "outputs": [
    {
     "data": {
      "text/plain": [
       "matrix([[1., 0., 0., 0., 0.],\n",
       "        [0., 1., 0., 0., 0.],\n",
       "        [0., 0., 1., 0., 0.],\n",
       "        [0., 0., 0., 1., 0.],\n",
       "        [0., 0., 0., 0., 1.]])"
      ]
     },
     "execution_count": 27,
     "metadata": {},
     "output_type": "execute_result"
    }
   ],
   "source": [
    "nm.eye(5)"
   ]
  },
  {
   "cell_type": "code",
   "execution_count": 28,
   "id": "c3582c16-603a-4432-96ab-dda7bad61283",
   "metadata": {},
   "outputs": [],
   "source": [
    "# Numpy - Linear Algebra"
   ]
  },
  {
   "cell_type": "code",
   "execution_count": 29,
   "id": "ec400e94-90cb-4ad9-af11-876c2b57df53",
   "metadata": {},
   "outputs": [],
   "source": [
    "arr1 = np.random.randint([[2,3], [4,5]])"
   ]
  },
  {
   "cell_type": "code",
   "execution_count": 30,
   "id": "15fef794-2a57-4432-9e13-4622cebdaafd",
   "metadata": {},
   "outputs": [],
   "source": [
    "arr2 = np.random.randint([[2,3], [4,5]])"
   ]
  },
  {
   "cell_type": "code",
   "execution_count": 31,
   "id": "51d89ffc-c70e-4a54-a9d7-8acac1fa37c4",
   "metadata": {},
   "outputs": [
    {
     "data": {
      "text/plain": [
       "array([[ 0,  0],\n",
       "       [ 8, 16]])"
      ]
     },
     "execution_count": 31,
     "metadata": {},
     "output_type": "execute_result"
    }
   ],
   "source": [
    "np.dot(arr1, arr2)"
   ]
  },
  {
   "cell_type": "code",
   "execution_count": 32,
   "id": "20cdd9db-a431-4df8-bd3d-26c9044cfca1",
   "metadata": {},
   "outputs": [
    {
     "data": {
      "text/plain": [
       "array([[ 0,  0],\n",
       "       [ 8, 16]])"
      ]
     },
     "execution_count": 32,
     "metadata": {},
     "output_type": "execute_result"
    }
   ],
   "source": [
    "arr1@arr2"
   ]
  }
 ],
 "metadata": {
  "kernelspec": {
   "display_name": "Python 3 (ipykernel)",
   "language": "python",
   "name": "python3"
  },
  "language_info": {
   "codemirror_mode": {
    "name": "ipython",
    "version": 3
   },
   "file_extension": ".py",
   "mimetype": "text/x-python",
   "name": "python",
   "nbconvert_exporter": "python",
   "pygments_lexer": "ipython3",
   "version": "3.10.8"
  }
 },
 "nbformat": 4,
 "nbformat_minor": 5
}
